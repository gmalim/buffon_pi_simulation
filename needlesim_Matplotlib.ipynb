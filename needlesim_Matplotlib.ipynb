{
 "cells": [
  {
   "cell_type": "markdown",
   "metadata": {},
   "source": [
    "# A simulation of Buffon's needle experiment to calculate *Pi*\n",
    "\n",
    "This simulation uses Matplotlib for visualization:"
   ]
  },
  {
   "cell_type": "code",
   "execution_count": null,
   "metadata": {},
   "outputs": [],
   "source": [
    "import random\n",
    "import math\n",
    "import matplotlib.pyplot as plt"
   ]
  },
  {
   "cell_type": "markdown",
   "metadata": {},
   "source": [
    "Enter number of simulated needles (N) and needle length over grid spacing ratio (L/S):"
   ]
  },
  {
   "cell_type": "code",
   "execution_count": null,
   "metadata": {},
   "outputs": [],
   "source": [
    "n = 1000000   # between 0 and 1000000\n",
    "LSratio = 0.8 # between 0 and 1"
   ]
  },
  {
   "cell_type": "markdown",
   "metadata": {},
   "source": [
    "Perform needle simulation:"
   ]
  },
  {
   "cell_type": "code",
   "execution_count": null,
   "metadata": {},
   "outputs": [],
   "source": [
    "# Create figure with gridlines:\n",
    "\n",
    "fig = plt.figure()\n",
    "ax = fig.add_subplot(111, aspect='equal')\n",
    "\n",
    "for i in range(-4, 5):\n",
    "    plt.plot([-4.5, 4.5], [i, i], color='black', linewidth=1)\n",
    "\n",
    "plt.xlim(-5,5)\n",
    "plt.ylim(-5,5)\n",
    "\n",
    "# Loop over needles:\n",
    "\n",
    "count = 0\n",
    "\n",
    "xcoords_crossed    = [] # Needed for faster plotting\n",
    "ycoords_crossed    = [] # Needed for faster plotting\n",
    "xcoords_notcrossed = [] # Needed for faster plotting\n",
    "ycoords_notcrossed = [] # Needed for faster plotting\n",
    "    \n",
    "for i in range(n):\n",
    "\n",
    "    # Create random needle:\n",
    "        \n",
    "    x1    = 6*random.random()-3\n",
    "    y1    = 6*random.random()-3\n",
    "    angle = 2*math.pi*random.random()\n",
    "\n",
    "    x2 = LSratio*math.cos(angle) + x1\n",
    "    y2 = LSratio*math.sin(angle) + y1\n",
    "        \n",
    "    # Check if needle crossed a gridline:\n",
    "        \n",
    "    crossed = False\n",
    "    for k in range(-3,4):\n",
    "        if ((y2>k) and (y1<k)) or ((y2<k) and (y1>k)):\n",
    "            crossed = True\n",
    "\n",
    "    # Count & save needles:\n",
    "               \n",
    "    if crossed:\n",
    "        count += 1    \n",
    "        xcoords_crossed.append(x1)\n",
    "        xcoords_crossed.append(x2)\n",
    "        xcoords_crossed.append(None)\n",
    "        ycoords_crossed.append(y1)\n",
    "        ycoords_crossed.append(y2)\n",
    "        ycoords_crossed.append(None)\n",
    "        #plt.plot([x1, x2], [y1, y2], color='red', linewidth=1) # Slow\n",
    "    else:\n",
    "        xcoords_notcrossed.append(x1)\n",
    "        xcoords_notcrossed.append(x2)\n",
    "        xcoords_notcrossed.append(None)\n",
    "        ycoords_notcrossed.append(y1)\n",
    "        ycoords_notcrossed.append(y2)\n",
    "        ycoords_notcrossed.append(None)\n",
    "        #plt.plot([x1, x2], [y1, y2], color='blue', linewidth=1) # Slow\n",
    "\n",
    "plt.plot(xcoords_crossed,    ycoords_crossed,    color='red',  linewidth=1) # Fast\n",
    "plt.plot(xcoords_notcrossed, ycoords_notcrossed, color='blue', linewidth=1) # Fast\n",
    "\n",
    "print('Total number of needles (out of {}) that crossed a grid line = {}'.format(n, count))"
   ]
  },
  {
   "cell_type": "markdown",
   "metadata": {},
   "source": [
    "Calculate *Pi* from simulation result:"
   ]
  },
  {
   "cell_type": "code",
   "execution_count": null,
   "metadata": {},
   "outputs": [],
   "source": [
    "pi_approx = 2*LSratio*n/float(count)\n",
    "\n",
    "print('Needle length / Grid spacing (L/S)           = {}'.format(LSratio))\n",
    "print('Total # of needles (N_t)                     = {}'.format(n)) \n",
    "print('Total # of needles that crossed a line (N_c) = {}'.format(count))\n",
    "print('')\n",
    "print('=> Pi_sim ~= 2*(L/S)*(N_t/N_c) = {}'.format(pi_approx))"
   ]
  },
  {
   "cell_type": "markdown",
   "metadata": {},
   "source": [
    "Calculate error between simulated result and the real *Pi*:"
   ]
  },
  {
   "cell_type": "code",
   "execution_count": null,
   "metadata": {},
   "outputs": [],
   "source": [
    "error = (pi_approx - math.pi)/math.pi * 100\n",
    "\n",
    "print('=> (Pi_sim - Pi) / Pi * 100 = {:.3f}%'.format(error))"
   ]
  }
 ],
 "metadata": {
  "kernelspec": {
   "display_name": "Python 2",
   "language": "python",
   "name": "python2"
  },
  "language_info": {
   "codemirror_mode": {
    "name": "ipython",
    "version": 2
   },
   "file_extension": ".py",
   "mimetype": "text/x-python",
   "name": "python",
   "nbconvert_exporter": "python",
   "pygments_lexer": "ipython2",
   "version": "2.7.14"
  }
 },
 "nbformat": 4,
 "nbformat_minor": 2
}
